{
 "cells": [
  {
   "cell_type": "code",
   "execution_count": 1,
   "metadata": {
    "scrolled": true
   },
   "outputs": [],
   "source": [
    "import pandas as pd\n",
    "import seaborn as sns\n",
    "import numpy as np\n",
    "import matplotlib.pyplot as plt\n",
    "import matplotlib.patches as mpatches\n",
    "%matplotlib inline"
   ]
  },
  {
   "cell_type": "code",
   "execution_count": 41,
   "metadata": {},
   "outputs": [],
   "source": [
    "l = pd.read_csv('ledgers.csv')\n",
    "t = pd.read_csv('transactions.csv')"
   ]
  },
  {
   "cell_type": "code",
   "execution_count": 44,
   "metadata": {
    "scrolled": true
   },
   "outputs": [
    {
     "data": {
      "text/html": [
       "<div>\n",
       "<style scoped>\n",
       "    .dataframe tbody tr th:only-of-type {\n",
       "        vertical-align: middle;\n",
       "    }\n",
       "\n",
       "    .dataframe tbody tr th {\n",
       "        vertical-align: top;\n",
       "    }\n",
       "\n",
       "    .dataframe thead th {\n",
       "        text-align: right;\n",
       "    }\n",
       "</style>\n",
       "<table border=\"1\" class=\"dataframe\">\n",
       "  <thead>\n",
       "    <tr style=\"text-align: right;\">\n",
       "      <th></th>\n",
       "      <th>Unnamed: 0</th>\n",
       "      <th>Sequence</th>\n",
       "      <th>InvoiceID</th>\n",
       "      <th>SourceTag</th>\n",
       "      <th>DestinationTag</th>\n",
       "      <th>Flags</th>\n",
       "      <th>Fee</th>\n",
       "      <th>Destination</th>\n",
       "      <th>hash</th>\n",
       "      <th>Account</th>\n",
       "      <th>...</th>\n",
       "      <th>AmountDEX</th>\n",
       "      <th>TakerGetsDEX</th>\n",
       "      <th>TakerPaysDEX</th>\n",
       "      <th>SendMaxDEX</th>\n",
       "      <th>LimitAmountDEX</th>\n",
       "      <th>SendMinDEX</th>\n",
       "      <th>DeliverMinDEX</th>\n",
       "      <th>currency</th>\n",
       "      <th>issuer</th>\n",
       "      <th>value</th>\n",
       "    </tr>\n",
       "  </thead>\n",
       "  <tbody>\n",
       "    <tr>\n",
       "      <th>0</th>\n",
       "      <td>0</td>\n",
       "      <td>23387</td>\n",
       "      <td>NaN</td>\n",
       "      <td>NaN</td>\n",
       "      <td>NaN</td>\n",
       "      <td>2.147484e+09</td>\n",
       "      <td>15</td>\n",
       "      <td>rDmr2ahgmi9JWTAtjrHmYoQPyhtDSiyPX2</td>\n",
       "      <td>FB8D5C02C1E1CCBD5F06C48E134A377EDC14F7EE1122A9...</td>\n",
       "      <td>r2LXq2rZWSgQ1thhKiEytzi1smg6oEn8A</td>\n",
       "      <td>...</td>\n",
       "      <td>NaN</td>\n",
       "      <td>NaN</td>\n",
       "      <td>NaN</td>\n",
       "      <td>NaN</td>\n",
       "      <td>NaN</td>\n",
       "      <td>NaN</td>\n",
       "      <td>NaN</td>\n",
       "      <td>NaN</td>\n",
       "      <td>NaN</td>\n",
       "      <td>NaN</td>\n",
       "    </tr>\n",
       "    <tr>\n",
       "      <th>1</th>\n",
       "      <td>1</td>\n",
       "      <td>23382</td>\n",
       "      <td>NaN</td>\n",
       "      <td>NaN</td>\n",
       "      <td>NaN</td>\n",
       "      <td>2.147484e+09</td>\n",
       "      <td>15</td>\n",
       "      <td>rDwUMs262c65NmMp7m7Lb7WDKQrS1FWhPY</td>\n",
       "      <td>CE706FDD821AC99B44E64570AB7D25C24015F720FD0477...</td>\n",
       "      <td>r2LXq2rZWSgQ1thhKiEytzi1smg6oEn8A</td>\n",
       "      <td>...</td>\n",
       "      <td>NaN</td>\n",
       "      <td>NaN</td>\n",
       "      <td>NaN</td>\n",
       "      <td>NaN</td>\n",
       "      <td>NaN</td>\n",
       "      <td>NaN</td>\n",
       "      <td>NaN</td>\n",
       "      <td>NaN</td>\n",
       "      <td>NaN</td>\n",
       "      <td>NaN</td>\n",
       "    </tr>\n",
       "    <tr>\n",
       "      <th>2</th>\n",
       "      <td>2</td>\n",
       "      <td>23377</td>\n",
       "      <td>NaN</td>\n",
       "      <td>NaN</td>\n",
       "      <td>NaN</td>\n",
       "      <td>2.147484e+09</td>\n",
       "      <td>15</td>\n",
       "      <td>rnn4sCdC5jTCRRkPxxSbrrphSVYKZ4R7M5</td>\n",
       "      <td>A3F8A28B2AA82822B135BD34B15D6E6D7BE883B52E61DF...</td>\n",
       "      <td>r2LXq2rZWSgQ1thhKiEytzi1smg6oEn8A</td>\n",
       "      <td>...</td>\n",
       "      <td>NaN</td>\n",
       "      <td>NaN</td>\n",
       "      <td>NaN</td>\n",
       "      <td>NaN</td>\n",
       "      <td>NaN</td>\n",
       "      <td>NaN</td>\n",
       "      <td>NaN</td>\n",
       "      <td>NaN</td>\n",
       "      <td>NaN</td>\n",
       "      <td>NaN</td>\n",
       "    </tr>\n",
       "    <tr>\n",
       "      <th>3</th>\n",
       "      <td>3</td>\n",
       "      <td>23388</td>\n",
       "      <td>NaN</td>\n",
       "      <td>NaN</td>\n",
       "      <td>NaN</td>\n",
       "      <td>2.147484e+09</td>\n",
       "      <td>15</td>\n",
       "      <td>rENQkSxhcZ4psfe1c2QpZr65eFg7Sh2tYR</td>\n",
       "      <td>1BCD8E4FB4EA778A13F7E9846AA03F02B742C97ACE453D...</td>\n",
       "      <td>r2LXq2rZWSgQ1thhKiEytzi1smg6oEn8A</td>\n",
       "      <td>...</td>\n",
       "      <td>NaN</td>\n",
       "      <td>NaN</td>\n",
       "      <td>NaN</td>\n",
       "      <td>NaN</td>\n",
       "      <td>NaN</td>\n",
       "      <td>NaN</td>\n",
       "      <td>NaN</td>\n",
       "      <td>NaN</td>\n",
       "      <td>NaN</td>\n",
       "      <td>NaN</td>\n",
       "    </tr>\n",
       "    <tr>\n",
       "      <th>4</th>\n",
       "      <td>4</td>\n",
       "      <td>23370</td>\n",
       "      <td>NaN</td>\n",
       "      <td>NaN</td>\n",
       "      <td>NaN</td>\n",
       "      <td>2.147484e+09</td>\n",
       "      <td>15</td>\n",
       "      <td>rDuDTWBwh4m62rTotAr5Hv8e8Tgt91ZV32</td>\n",
       "      <td>162CC4383D0AAEE023EB1FEAC61ADA0C1F8CF26EFFBD58...</td>\n",
       "      <td>r2LXq2rZWSgQ1thhKiEytzi1smg6oEn8A</td>\n",
       "      <td>...</td>\n",
       "      <td>NaN</td>\n",
       "      <td>NaN</td>\n",
       "      <td>NaN</td>\n",
       "      <td>NaN</td>\n",
       "      <td>NaN</td>\n",
       "      <td>NaN</td>\n",
       "      <td>NaN</td>\n",
       "      <td>NaN</td>\n",
       "      <td>NaN</td>\n",
       "      <td>NaN</td>\n",
       "    </tr>\n",
       "  </tbody>\n",
       "</table>\n",
       "<p>5 rows × 66 columns</p>\n",
       "</div>"
      ],
      "text/plain": [
       "   Unnamed: 0  Sequence InvoiceID  SourceTag  DestinationTag         Flags  \\\n",
       "0           0     23387       NaN        NaN             NaN  2.147484e+09   \n",
       "1           1     23382       NaN        NaN             NaN  2.147484e+09   \n",
       "2           2     23377       NaN        NaN             NaN  2.147484e+09   \n",
       "3           3     23388       NaN        NaN             NaN  2.147484e+09   \n",
       "4           4     23370       NaN        NaN             NaN  2.147484e+09   \n",
       "\n",
       "   Fee                         Destination  \\\n",
       "0   15  rDmr2ahgmi9JWTAtjrHmYoQPyhtDSiyPX2   \n",
       "1   15  rDwUMs262c65NmMp7m7Lb7WDKQrS1FWhPY   \n",
       "2   15  rnn4sCdC5jTCRRkPxxSbrrphSVYKZ4R7M5   \n",
       "3   15  rENQkSxhcZ4psfe1c2QpZr65eFg7Sh2tYR   \n",
       "4   15  rDuDTWBwh4m62rTotAr5Hv8e8Tgt91ZV32   \n",
       "\n",
       "                                                hash  \\\n",
       "0  FB8D5C02C1E1CCBD5F06C48E134A377EDC14F7EE1122A9...   \n",
       "1  CE706FDD821AC99B44E64570AB7D25C24015F720FD0477...   \n",
       "2  A3F8A28B2AA82822B135BD34B15D6E6D7BE883B52E61DF...   \n",
       "3  1BCD8E4FB4EA778A13F7E9846AA03F02B742C97ACE453D...   \n",
       "4  162CC4383D0AAEE023EB1FEAC61ADA0C1F8CF26EFFBD58...   \n",
       "\n",
       "                             Account  ... AmountDEX  TakerGetsDEX  \\\n",
       "0  r2LXq2rZWSgQ1thhKiEytzi1smg6oEn8A  ...       NaN           NaN   \n",
       "1  r2LXq2rZWSgQ1thhKiEytzi1smg6oEn8A  ...       NaN           NaN   \n",
       "2  r2LXq2rZWSgQ1thhKiEytzi1smg6oEn8A  ...       NaN           NaN   \n",
       "3  r2LXq2rZWSgQ1thhKiEytzi1smg6oEn8A  ...       NaN           NaN   \n",
       "4  r2LXq2rZWSgQ1thhKiEytzi1smg6oEn8A  ...       NaN           NaN   \n",
       "\n",
       "   TakerPaysDEX  SendMaxDEX  LimitAmountDEX  SendMinDEX  DeliverMinDEX  \\\n",
       "0           NaN         NaN             NaN         NaN            NaN   \n",
       "1           NaN         NaN             NaN         NaN            NaN   \n",
       "2           NaN         NaN             NaN         NaN            NaN   \n",
       "3           NaN         NaN             NaN         NaN            NaN   \n",
       "4           NaN         NaN             NaN         NaN            NaN   \n",
       "\n",
       "   currency  issuer value  \n",
       "0       NaN     NaN   NaN  \n",
       "1       NaN     NaN   NaN  \n",
       "2       NaN     NaN   NaN  \n",
       "3       NaN     NaN   NaN  \n",
       "4       NaN     NaN   NaN  \n",
       "\n",
       "[5 rows x 66 columns]"
      ]
     },
     "execution_count": 44,
     "metadata": {},
     "output_type": "execute_result"
    }
   ],
   "source": [
    "t.head()"
   ]
  },
  {
   "cell_type": "code",
   "execution_count": 98,
   "metadata": {},
   "outputs": [
    {
     "data": {
      "text/plain": [
       "Index(['Unnamed: 0', 'Sequence', 'InvoiceID', 'SourceTag', 'DestinationTag',\n",
       "       'Flags', 'Fee', 'Destination', 'hash', 'Account', 'TransactionType',\n",
       "       'DeliverMinXRP', 'SendMinXRP', 'LimitAmountXRP', 'SendMaxXRP',\n",
       "       'TakerPaysXRP', 'TakerGetsXRP', 'AmountXRP', 'LedgerIndex',\n",
       "       'TransactionResult', 'TransactionIndex', 'DeliveredAmount', 'Memos',\n",
       "       'SignerEntries', 'Signers', 'SigningPubKey', 'TxnSignature',\n",
       "       'AccountTxnID', 'SignerQuorum', 'ClearFlag', 'Domain', 'EmailHash',\n",
       "       'MessageKey', 'SetFlag', 'TransferRate', 'TickSize', 'CheckID',\n",
       "       'Expiration', 'Authorize', 'Owner', 'OfferSequence', 'Condition',\n",
       "       'FinishAfter', 'CancelAfter', 'Fulfillment', 'LastLedgerSequence',\n",
       "       'SettleDelay', 'RegularKey', 'QualityIn', 'QualityOut', 'Amendment',\n",
       "       'LedgerSequence', 'BaseFee', 'ReferenceFeeUnits', 'ReserveBase',\n",
       "       'ReserveIncrement', 'AmountDEX', 'TakerGetsDEX', 'TakerPaysDEX',\n",
       "       'SendMaxDEX', 'LimitAmountDEX', 'SendMinDEX', 'DeliverMinDEX',\n",
       "       'currency', 'issuer', 'value'],\n",
       "      dtype='object')"
      ]
     },
     "execution_count": 98,
     "metadata": {},
     "output_type": "execute_result"
    }
   ],
   "source": [
    "t.columns"
   ]
  },
  {
   "cell_type": "code",
   "execution_count": 102,
   "metadata": {
    "scrolled": true
   },
   "outputs": [
    {
     "data": {
      "text/html": [
       "<div>\n",
       "<style scoped>\n",
       "    .dataframe tbody tr th:only-of-type {\n",
       "        vertical-align: middle;\n",
       "    }\n",
       "\n",
       "    .dataframe tbody tr th {\n",
       "        vertical-align: top;\n",
       "    }\n",
       "\n",
       "    .dataframe thead th {\n",
       "        text-align: right;\n",
       "    }\n",
       "</style>\n",
       "<table border=\"1\" class=\"dataframe\">\n",
       "  <thead>\n",
       "    <tr style=\"text-align: right;\">\n",
       "      <th></th>\n",
       "      <th>TransactionType</th>\n",
       "      <th>Fee</th>\n",
       "    </tr>\n",
       "  </thead>\n",
       "  <tbody>\n",
       "    <tr>\n",
       "      <th>0</th>\n",
       "      <td>AccountSet</td>\n",
       "      <td>20.453309</td>\n",
       "    </tr>\n",
       "    <tr>\n",
       "      <th>1</th>\n",
       "      <td>OfferCancel</td>\n",
       "      <td>18892.402022</td>\n",
       "    </tr>\n",
       "    <tr>\n",
       "      <th>2</th>\n",
       "      <td>OfferCreate</td>\n",
       "      <td>2904.302374</td>\n",
       "    </tr>\n",
       "    <tr>\n",
       "      <th>3</th>\n",
       "      <td>Payment</td>\n",
       "      <td>3763.269280</td>\n",
       "    </tr>\n",
       "    <tr>\n",
       "      <th>4</th>\n",
       "      <td>SignerListSet</td>\n",
       "      <td>3000.000000</td>\n",
       "    </tr>\n",
       "    <tr>\n",
       "      <th>5</th>\n",
       "      <td>TrustSet</td>\n",
       "      <td>13.828571</td>\n",
       "    </tr>\n",
       "  </tbody>\n",
       "</table>\n",
       "</div>"
      ],
      "text/plain": [
       "  TransactionType           Fee\n",
       "0      AccountSet     20.453309\n",
       "1     OfferCancel  18892.402022\n",
       "2     OfferCreate   2904.302374\n",
       "3         Payment   3763.269280\n",
       "4   SignerListSet   3000.000000\n",
       "5        TrustSet     13.828571"
      ]
     },
     "execution_count": 102,
     "metadata": {},
     "output_type": "execute_result"
    }
   ],
   "source": [
    "t.groupby('TransactionType').Fee.mean().to_frame().reset_index()"
   ]
  },
  {
   "cell_type": "code",
   "execution_count": null,
   "metadata": {},
   "outputs": [],
   "source": []
  },
  {
   "cell_type": "code",
   "execution_count": 45,
   "metadata": {},
   "outputs": [
    {
     "data": {
      "text/plain": [
       "(100000, 66)"
      ]
     },
     "execution_count": 45,
     "metadata": {},
     "output_type": "execute_result"
    }
   ],
   "source": [
    "t.shape"
   ]
  },
  {
   "cell_type": "code",
   "execution_count": 5,
   "metadata": {},
   "outputs": [],
   "source": [
    "df0 = t.groupby('currency').Fee.count().to_frame().reset_index()"
   ]
  },
  {
   "cell_type": "code",
   "execution_count": 6,
   "metadata": {},
   "outputs": [
    {
     "data": {
      "text/html": [
       "<div>\n",
       "<style scoped>\n",
       "    .dataframe tbody tr th:only-of-type {\n",
       "        vertical-align: middle;\n",
       "    }\n",
       "\n",
       "    .dataframe tbody tr th {\n",
       "        vertical-align: top;\n",
       "    }\n",
       "\n",
       "    .dataframe thead th {\n",
       "        text-align: right;\n",
       "    }\n",
       "</style>\n",
       "<table border=\"1\" class=\"dataframe\">\n",
       "  <thead>\n",
       "    <tr style=\"text-align: right;\">\n",
       "      <th></th>\n",
       "      <th>currency</th>\n",
       "      <th>Fee</th>\n",
       "    </tr>\n",
       "  </thead>\n",
       "  <tbody>\n",
       "    <tr>\n",
       "      <th>0</th>\n",
       "      <td>ADA</td>\n",
       "      <td>25</td>\n",
       "    </tr>\n",
       "    <tr>\n",
       "      <th>1</th>\n",
       "      <td>AGC</td>\n",
       "      <td>549</td>\n",
       "    </tr>\n",
       "    <tr>\n",
       "      <th>2</th>\n",
       "      <td>AUD</td>\n",
       "      <td>2</td>\n",
       "    </tr>\n",
       "    <tr>\n",
       "      <th>3</th>\n",
       "      <td>BRL</td>\n",
       "      <td>438</td>\n",
       "    </tr>\n",
       "    <tr>\n",
       "      <th>4</th>\n",
       "      <td>BTC</td>\n",
       "      <td>24199</td>\n",
       "    </tr>\n",
       "  </tbody>\n",
       "</table>\n",
       "</div>"
      ],
      "text/plain": [
       "  currency    Fee\n",
       "0      ADA     25\n",
       "1      AGC    549\n",
       "2      AUD      2\n",
       "3      BRL    438\n",
       "4      BTC  24199"
      ]
     },
     "execution_count": 6,
     "metadata": {},
     "output_type": "execute_result"
    }
   ],
   "source": [
    "df0"
   ]
  },
  {
   "cell_type": "code",
   "execution_count": 7,
   "metadata": {
    "scrolled": true
   },
   "outputs": [
    {
     "data": {
      "image/png": "[encoded data removed]",
      "text/plain": [
       "<Figure size 720x432 with 1 Axes>"
      ]
     },
     "metadata": {
      "needs_background": "light"
     },
     "output_type": "display_data"
    }
   ],
   "source": [
    "plt.figure(figsize=(10,6))\n",
    "\n",
    "x = df0['currency']   \n",
    "y = df0['Fee']\n",
    "\n",
    "barlist = plt.bar(x,y, color='cyan')\n",
    "barlist[0].set_color('magenta')\n",
    "barlist[1].set_color('magenta')\n",
    "barlist[3].set_color('magenta')\n",
    "\n",
    "plt.xlabel('Currency') \n",
    "plt.ylabel('number of transaction')\n",
    "plt.title('Number of transactions per currency starting 2020-01-15 ending 2020-01-16 limited to 100,000 rows')\n",
    "\n",
    "NA = mpatches.Patch(color='cyan', label='BTC: 24199')\n",
    "BRL = mpatches.Patch(color='magenta', label='BRL: 438')\n",
    "AGC = mpatches.Patch(color='magenta', label='AGC: 549')\n",
    "ADA = mpatches.Patch(color='magenta', label='ADA: 25')\n",
    "AUD = mpatches.Patch(color='white', label='AUD: 2')\n",
    "plt.legend(handles=[NA,BRL,AGC,ADA,AUD], loc=2)\n",
    "\n",
    "plt.show()"
   ]
  },
  {
   "cell_type": "markdown",
   "metadata": {},
   "source": [
    "## Most transactions used BTC"
   ]
  },
  {
   "cell_type": "code",
   "execution_count": 8,
   "metadata": {},
   "outputs": [],
   "source": [
    "df1 = t.groupby('currency').Fee.mean().to_frame().reset_index()"
   ]
  },
  {
   "cell_type": "code",
   "execution_count": 9,
   "metadata": {},
   "outputs": [
    {
     "data": {
      "text/html": [
       "<div>\n",
       "<style scoped>\n",
       "    .dataframe tbody tr th:only-of-type {\n",
       "        vertical-align: middle;\n",
       "    }\n",
       "\n",
       "    .dataframe tbody tr th {\n",
       "        vertical-align: top;\n",
       "    }\n",
       "\n",
       "    .dataframe thead th {\n",
       "        text-align: right;\n",
       "    }\n",
       "</style>\n",
       "<table border=\"1\" class=\"dataframe\">\n",
       "  <thead>\n",
       "    <tr style=\"text-align: right;\">\n",
       "      <th></th>\n",
       "      <th>currency</th>\n",
       "      <th>Fee</th>\n",
       "    </tr>\n",
       "  </thead>\n",
       "  <tbody>\n",
       "    <tr>\n",
       "      <th>0</th>\n",
       "      <td>ADA</td>\n",
       "      <td>231.360000</td>\n",
       "    </tr>\n",
       "    <tr>\n",
       "      <th>1</th>\n",
       "      <td>AGC</td>\n",
       "      <td>1000.000000</td>\n",
       "    </tr>\n",
       "    <tr>\n",
       "      <th>2</th>\n",
       "      <td>AUD</td>\n",
       "      <td>10006.000000</td>\n",
       "    </tr>\n",
       "    <tr>\n",
       "      <th>3</th>\n",
       "      <td>BRL</td>\n",
       "      <td>614.824201</td>\n",
       "    </tr>\n",
       "    <tr>\n",
       "      <th>4</th>\n",
       "      <td>BTC</td>\n",
       "      <td>683.404438</td>\n",
       "    </tr>\n",
       "  </tbody>\n",
       "</table>\n",
       "</div>"
      ],
      "text/plain": [
       "  currency           Fee\n",
       "0      ADA    231.360000\n",
       "1      AGC   1000.000000\n",
       "2      AUD  10006.000000\n",
       "3      BRL    614.824201\n",
       "4      BTC    683.404438"
      ]
     },
     "execution_count": 9,
     "metadata": {},
     "output_type": "execute_result"
    }
   ],
   "source": [
    "df1"
   ]
  },
  {
   "cell_type": "code",
   "execution_count": 100,
   "metadata": {
    "scrolled": true
   },
   "outputs": [
    {
     "data": {
      "image/png": "[encoded data removed]",
      "text/plain": [
       "<Figure size 720x432 with 1 Axes>"
      ]
     },
     "metadata": {
      "needs_background": "light"
     },
     "output_type": "display_data"
    }
   ],
   "source": [
    "fig = plt.figure(figsize=(10,6))\n",
    "\n",
    "x = df1['currency']   \n",
    "y = df1['Fee']\n",
    "\n",
    "barlist = plt.bar(x,y, color='magenta')\n",
    "barlist[2].set_color('cyan')\n",
    "\n",
    "plt.xlabel('Currency') \n",
    "plt.ylabel('fee means')\n",
    "plt.title('Means of total fees per currency starting 2020-01-15 ending 2020-01-16 limited to 100,000 rows')\n",
    "\n",
    "NA = mpatches.Patch(color='magenta', label='BTC: 683.4')\n",
    "BRL = mpatches.Patch(color='magenta', label='BRL: 614.82')\n",
    "AGC = mpatches.Patch(color='magenta', label='AGC: 1000')\n",
    "ADA = mpatches.Patch(color='magenta', label='ADA: 231.36')\n",
    "AUD = mpatches.Patch(color='cyan', label='AUD: 10,006')\n",
    "plt.legend(handles=[AUD,AGC,NA,BRL,ADA], loc=2)\n",
    "\n",
    "fig.savefig('plot1.png')\n",
    "plt.show()"
   ]
  },
  {
   "cell_type": "markdown",
   "metadata": {},
   "source": [
    "## Why are the fees so important for AUD & AGC transactions?"
   ]
  },
  {
   "cell_type": "code",
   "execution_count": 11,
   "metadata": {
    "scrolled": true
   },
   "outputs": [
    {
     "data": {
      "text/plain": [
       "<matplotlib.axes._subplots.AxesSubplot at 0x120026610>"
      ]
     },
     "execution_count": 11,
     "metadata": {},
     "output_type": "execute_result"
    },
    {
     "data": {
      "image/png": "[encoded data removed]",
      "text/plain": [
       "<Figure size 432x288 with 1 Axes>"
      ]
     },
     "metadata": {
      "needs_background": "light"
     },
     "output_type": "display_data"
    }
   ],
   "source": [
    "sns.distplot(l['Fee'])"
   ]
  },
  {
   "cell_type": "code",
   "execution_count": 15,
   "metadata": {
    "scrolled": true
   },
   "outputs": [
    {
     "data": {
      "text/html": [
       "<div>\n",
       "<style scoped>\n",
       "    .dataframe tbody tr th:only-of-type {\n",
       "        vertical-align: middle;\n",
       "    }\n",
       "\n",
       "    .dataframe tbody tr th {\n",
       "        vertical-align: top;\n",
       "    }\n",
       "\n",
       "    .dataframe thead th {\n",
       "        text-align: right;\n",
       "    }\n",
       "</style>\n",
       "<table border=\"1\" class=\"dataframe\">\n",
       "  <thead>\n",
       "    <tr style=\"text-align: right;\">\n",
       "      <th></th>\n",
       "      <th>Unnamed: 0</th>\n",
       "      <th>Sequence</th>\n",
       "      <th>InvoiceID</th>\n",
       "      <th>SourceTag</th>\n",
       "      <th>DestinationTag</th>\n",
       "      <th>Flags</th>\n",
       "      <th>Fee</th>\n",
       "      <th>Destination</th>\n",
       "      <th>hash</th>\n",
       "      <th>Account</th>\n",
       "      <th>...</th>\n",
       "      <th>AmountDEX</th>\n",
       "      <th>TakerGetsDEX</th>\n",
       "      <th>TakerPaysDEX</th>\n",
       "      <th>SendMaxDEX</th>\n",
       "      <th>LimitAmountDEX</th>\n",
       "      <th>SendMinDEX</th>\n",
       "      <th>DeliverMinDEX</th>\n",
       "      <th>currency</th>\n",
       "      <th>issuer</th>\n",
       "      <th>value</th>\n",
       "    </tr>\n",
       "  </thead>\n",
       "  <tbody>\n",
       "    <tr>\n",
       "      <th>0</th>\n",
       "      <td>0</td>\n",
       "      <td>23387</td>\n",
       "      <td>NaN</td>\n",
       "      <td>NaN</td>\n",
       "      <td>NaN</td>\n",
       "      <td>2.147484e+09</td>\n",
       "      <td>15</td>\n",
       "      <td>rDmr2ahgmi9JWTAtjrHmYoQPyhtDSiyPX2</td>\n",
       "      <td>FB8D5C02C1E1CCBD5F06C48E134A377EDC14F7EE1122A9...</td>\n",
       "      <td>r2LXq2rZWSgQ1thhKiEytzi1smg6oEn8A</td>\n",
       "      <td>...</td>\n",
       "      <td>NaN</td>\n",
       "      <td>NaN</td>\n",
       "      <td>NaN</td>\n",
       "      <td>NaN</td>\n",
       "      <td>NaN</td>\n",
       "      <td>NaN</td>\n",
       "      <td>NaN</td>\n",
       "      <td>NaN</td>\n",
       "      <td>NaN</td>\n",
       "      <td>NaN</td>\n",
       "    </tr>\n",
       "    <tr>\n",
       "      <th>1</th>\n",
       "      <td>1</td>\n",
       "      <td>23382</td>\n",
       "      <td>NaN</td>\n",
       "      <td>NaN</td>\n",
       "      <td>NaN</td>\n",
       "      <td>2.147484e+09</td>\n",
       "      <td>15</td>\n",
       "      <td>rDwUMs262c65NmMp7m7Lb7WDKQrS1FWhPY</td>\n",
       "      <td>CE706FDD821AC99B44E64570AB7D25C24015F720FD0477...</td>\n",
       "      <td>r2LXq2rZWSgQ1thhKiEytzi1smg6oEn8A</td>\n",
       "      <td>...</td>\n",
       "      <td>NaN</td>\n",
       "      <td>NaN</td>\n",
       "      <td>NaN</td>\n",
       "      <td>NaN</td>\n",
       "      <td>NaN</td>\n",
       "      <td>NaN</td>\n",
       "      <td>NaN</td>\n",
       "      <td>NaN</td>\n",
       "      <td>NaN</td>\n",
       "      <td>NaN</td>\n",
       "    </tr>\n",
       "    <tr>\n",
       "      <th>2</th>\n",
       "      <td>2</td>\n",
       "      <td>23377</td>\n",
       "      <td>NaN</td>\n",
       "      <td>NaN</td>\n",
       "      <td>NaN</td>\n",
       "      <td>2.147484e+09</td>\n",
       "      <td>15</td>\n",
       "      <td>rnn4sCdC5jTCRRkPxxSbrrphSVYKZ4R7M5</td>\n",
       "      <td>A3F8A28B2AA82822B135BD34B15D6E6D7BE883B52E61DF...</td>\n",
       "      <td>r2LXq2rZWSgQ1thhKiEytzi1smg6oEn8A</td>\n",
       "      <td>...</td>\n",
       "      <td>NaN</td>\n",
       "      <td>NaN</td>\n",
       "      <td>NaN</td>\n",
       "      <td>NaN</td>\n",
       "      <td>NaN</td>\n",
       "      <td>NaN</td>\n",
       "      <td>NaN</td>\n",
       "      <td>NaN</td>\n",
       "      <td>NaN</td>\n",
       "      <td>NaN</td>\n",
       "    </tr>\n",
       "    <tr>\n",
       "      <th>3</th>\n",
       "      <td>3</td>\n",
       "      <td>23388</td>\n",
       "      <td>NaN</td>\n",
       "      <td>NaN</td>\n",
       "      <td>NaN</td>\n",
       "      <td>2.147484e+09</td>\n",
       "      <td>15</td>\n",
       "      <td>rENQkSxhcZ4psfe1c2QpZr65eFg7Sh2tYR</td>\n",
       "      <td>1BCD8E4FB4EA778A13F7E9846AA03F02B742C97ACE453D...</td>\n",
       "      <td>r2LXq2rZWSgQ1thhKiEytzi1smg6oEn8A</td>\n",
       "      <td>...</td>\n",
       "      <td>NaN</td>\n",
       "      <td>NaN</td>\n",
       "      <td>NaN</td>\n",
       "      <td>NaN</td>\n",
       "      <td>NaN</td>\n",
       "      <td>NaN</td>\n",
       "      <td>NaN</td>\n",
       "      <td>NaN</td>\n",
       "      <td>NaN</td>\n",
       "      <td>NaN</td>\n",
       "    </tr>\n",
       "    <tr>\n",
       "      <th>4</th>\n",
       "      <td>4</td>\n",
       "      <td>23370</td>\n",
       "      <td>NaN</td>\n",
       "      <td>NaN</td>\n",
       "      <td>NaN</td>\n",
       "      <td>2.147484e+09</td>\n",
       "      <td>15</td>\n",
       "      <td>rDuDTWBwh4m62rTotAr5Hv8e8Tgt91ZV32</td>\n",
       "      <td>162CC4383D0AAEE023EB1FEAC61ADA0C1F8CF26EFFBD58...</td>\n",
       "      <td>r2LXq2rZWSgQ1thhKiEytzi1smg6oEn8A</td>\n",
       "      <td>...</td>\n",
       "      <td>NaN</td>\n",
       "      <td>NaN</td>\n",
       "      <td>NaN</td>\n",
       "      <td>NaN</td>\n",
       "      <td>NaN</td>\n",
       "      <td>NaN</td>\n",
       "      <td>NaN</td>\n",
       "      <td>NaN</td>\n",
       "      <td>NaN</td>\n",
       "      <td>NaN</td>\n",
       "    </tr>\n",
       "  </tbody>\n",
       "</table>\n",
       "<p>5 rows × 66 columns</p>\n",
       "</div>"
      ],
      "text/plain": [
       "   Unnamed: 0  Sequence InvoiceID  SourceTag  DestinationTag         Flags  \\\n",
       "0           0     23387       NaN        NaN             NaN  2.147484e+09   \n",
       "1           1     23382       NaN        NaN             NaN  2.147484e+09   \n",
       "2           2     23377       NaN        NaN             NaN  2.147484e+09   \n",
       "3           3     23388       NaN        NaN             NaN  2.147484e+09   \n",
       "4           4     23370       NaN        NaN             NaN  2.147484e+09   \n",
       "\n",
       "   Fee                         Destination  \\\n",
       "0   15  rDmr2ahgmi9JWTAtjrHmYoQPyhtDSiyPX2   \n",
       "1   15  rDwUMs262c65NmMp7m7Lb7WDKQrS1FWhPY   \n",
       "2   15  rnn4sCdC5jTCRRkPxxSbrrphSVYKZ4R7M5   \n",
       "3   15  rENQkSxhcZ4psfe1c2QpZr65eFg7Sh2tYR   \n",
       "4   15  rDuDTWBwh4m62rTotAr5Hv8e8Tgt91ZV32   \n",
       "\n",
       "                                                hash  \\\n",
       "0  FB8D5C02C1E1CCBD5F06C48E134A377EDC14F7EE1122A9...   \n",
       "1  CE706FDD821AC99B44E64570AB7D25C24015F720FD0477...   \n",
       "2  A3F8A28B2AA82822B135BD34B15D6E6D7BE883B52E61DF...   \n",
       "3  1BCD8E4FB4EA778A13F7E9846AA03F02B742C97ACE453D...   \n",
       "4  162CC4383D0AAEE023EB1FEAC61ADA0C1F8CF26EFFBD58...   \n",
       "\n",
       "                             Account  ... AmountDEX  TakerGetsDEX  \\\n",
       "0  r2LXq2rZWSgQ1thhKiEytzi1smg6oEn8A  ...       NaN           NaN   \n",
       "1  r2LXq2rZWSgQ1thhKiEytzi1smg6oEn8A  ...       NaN           NaN   \n",
       "2  r2LXq2rZWSgQ1thhKiEytzi1smg6oEn8A  ...       NaN           NaN   \n",
       "3  r2LXq2rZWSgQ1thhKiEytzi1smg6oEn8A  ...       NaN           NaN   \n",
       "4  r2LXq2rZWSgQ1thhKiEytzi1smg6oEn8A  ...       NaN           NaN   \n",
       "\n",
       "   TakerPaysDEX  SendMaxDEX  LimitAmountDEX  SendMinDEX  DeliverMinDEX  \\\n",
       "0           NaN         NaN             NaN         NaN            NaN   \n",
       "1           NaN         NaN             NaN         NaN            NaN   \n",
       "2           NaN         NaN             NaN         NaN            NaN   \n",
       "3           NaN         NaN             NaN         NaN            NaN   \n",
       "4           NaN         NaN             NaN         NaN            NaN   \n",
       "\n",
       "   currency  issuer value  \n",
       "0       NaN     NaN   NaN  \n",
       "1       NaN     NaN   NaN  \n",
       "2       NaN     NaN   NaN  \n",
       "3       NaN     NaN   NaN  \n",
       "4       NaN     NaN   NaN  \n",
       "\n",
       "[5 rows x 66 columns]"
      ]
     },
     "execution_count": 15,
     "metadata": {},
     "output_type": "execute_result"
    }
   ],
   "source": [
    "t.head()"
   ]
  },
  {
   "cell_type": "markdown",
   "metadata": {},
   "source": [
    "#### I assume that 'value' is the amount of XRP that have been transacted"
   ]
  },
  {
   "cell_type": "code",
   "execution_count": 88,
   "metadata": {
    "scrolled": true
   },
   "outputs": [],
   "source": [
    "df2 = t.groupby(['issuer']).Fee.mean().to_frame().reset_index()"
   ]
  },
  {
   "cell_type": "code",
   "execution_count": 89,
   "metadata": {
    "scrolled": true
   },
   "outputs": [
    {
     "data": {
      "text/html": [
       "<div>\n",
       "<style scoped>\n",
       "    .dataframe tbody tr th:only-of-type {\n",
       "        vertical-align: middle;\n",
       "    }\n",
       "\n",
       "    .dataframe tbody tr th {\n",
       "        vertical-align: top;\n",
       "    }\n",
       "\n",
       "    .dataframe thead th {\n",
       "        text-align: right;\n",
       "    }\n",
       "</style>\n",
       "<table border=\"1\" class=\"dataframe\">\n",
       "  <thead>\n",
       "    <tr style=\"text-align: right;\">\n",
       "      <th></th>\n",
       "      <th>issuer</th>\n",
       "      <th>Fee</th>\n",
       "    </tr>\n",
       "  </thead>\n",
       "  <tbody>\n",
       "    <tr>\n",
       "      <th>0</th>\n",
       "      <td>rB3gZey7VWHYRqJHLoHDEJXJ2pEPNieKiS</td>\n",
       "      <td>627.610566</td>\n",
       "    </tr>\n",
       "    <tr>\n",
       "      <th>1</th>\n",
       "      <td>rBfVgTnsdh8ckC19RM8aVGNuMZnpwrMP6n</td>\n",
       "      <td>12.000000</td>\n",
       "    </tr>\n",
       "    <tr>\n",
       "      <th>2</th>\n",
       "      <td>rG6FZ31hDHN1K5Dkbma3PSB5uVCuVVRzfn</td>\n",
       "      <td>577.335000</td>\n",
       "    </tr>\n",
       "    <tr>\n",
       "      <th>3</th>\n",
       "      <td>rK5DpELkCXAtBpZzEooTYzW1bymsAdE1s8</td>\n",
       "      <td>20000.000000</td>\n",
       "    </tr>\n",
       "    <tr>\n",
       "      <th>4</th>\n",
       "      <td>rKxKhXZCeSDsbkyB8DVgxpjy5AHubFkMFe</td>\n",
       "      <td>13.500000</td>\n",
       "    </tr>\n",
       "    <tr>\n",
       "      <th>5</th>\n",
       "      <td>rLEsXccBGNR3UPuPu2hUXPjziKC3qKSBun</td>\n",
       "      <td>601.038349</td>\n",
       "    </tr>\n",
       "    <tr>\n",
       "      <th>6</th>\n",
       "      <td>rQnUok1DNSH4q8VBSRke5cY7vtZ4H5XG9X</td>\n",
       "      <td>12.000000</td>\n",
       "    </tr>\n",
       "    <tr>\n",
       "      <th>7</th>\n",
       "      <td>rchGBxcD1A1C2tdxF6papQYZ8kjRKMYcL</td>\n",
       "      <td>466.870712</td>\n",
       "    </tr>\n",
       "    <tr>\n",
       "      <th>8</th>\n",
       "      <td>rfNZPxoZ5Uaamdp339U9dCLWz2T73nZJZH</td>\n",
       "      <td>614.824201</td>\n",
       "    </tr>\n",
       "    <tr>\n",
       "      <th>9</th>\n",
       "      <td>rfqspG4S6H3NLYGecx3FHHYjPeYSNCdApf</td>\n",
       "      <td>1000.000000</td>\n",
       "    </tr>\n",
       "    <tr>\n",
       "      <th>10</th>\n",
       "      <td>rnuF96W4SZoCJmbHYBFoJZpR8eCaxNvekK</td>\n",
       "      <td>15.000000</td>\n",
       "    </tr>\n",
       "    <tr>\n",
       "      <th>11</th>\n",
       "      <td>rvYAfWj5gh67oV6fW32ZzP3Aw4Eubs59B</td>\n",
       "      <td>4075.694716</td>\n",
       "    </tr>\n",
       "  </tbody>\n",
       "</table>\n",
       "</div>"
      ],
      "text/plain": [
       "                                issuer           Fee\n",
       "0   rB3gZey7VWHYRqJHLoHDEJXJ2pEPNieKiS    627.610566\n",
       "1   rBfVgTnsdh8ckC19RM8aVGNuMZnpwrMP6n     12.000000\n",
       "2   rG6FZ31hDHN1K5Dkbma3PSB5uVCuVVRzfn    577.335000\n",
       "3   rK5DpELkCXAtBpZzEooTYzW1bymsAdE1s8  20000.000000\n",
       "4   rKxKhXZCeSDsbkyB8DVgxpjy5AHubFkMFe     13.500000\n",
       "5   rLEsXccBGNR3UPuPu2hUXPjziKC3qKSBun    601.038349\n",
       "6   rQnUok1DNSH4q8VBSRke5cY7vtZ4H5XG9X     12.000000\n",
       "7    rchGBxcD1A1C2tdxF6papQYZ8kjRKMYcL    466.870712\n",
       "8   rfNZPxoZ5Uaamdp339U9dCLWz2T73nZJZH    614.824201\n",
       "9   rfqspG4S6H3NLYGecx3FHHYjPeYSNCdApf   1000.000000\n",
       "10  rnuF96W4SZoCJmbHYBFoJZpR8eCaxNvekK     15.000000\n",
       "11   rvYAfWj5gh67oV6fW32ZzP3Aw4Eubs59B   4075.694716"
      ]
     },
     "execution_count": 89,
     "metadata": {},
     "output_type": "execute_result"
    }
   ],
   "source": [
    "df2"
   ]
  },
  {
   "cell_type": "markdown",
   "metadata": {},
   "source": [
    "The issuer 'rK5DpELkCXAtBpZzEooTYzW1bymsAdE1s8' has enormous fees compared to the other. Let's learn about their transactions."
   ]
  },
  {
   "cell_type": "markdown",
   "metadata": {},
   "source": [
    " 1 AUD to USD = 0.682717 US Dollars"
   ]
  },
  {
   "cell_type": "code",
   "execution_count": null,
   "metadata": {},
   "outputs": [],
   "source": []
  },
  {
   "cell_type": "code",
   "execution_count": null,
   "metadata": {},
   "outputs": [],
   "source": []
  },
  {
   "cell_type": "code",
   "execution_count": null,
   "metadata": {},
   "outputs": [],
   "source": []
  },
  {
   "cell_type": "code",
   "execution_count": null,
   "metadata": {},
   "outputs": [],
   "source": []
  },
  {
   "cell_type": "code",
   "execution_count": null,
   "metadata": {},
   "outputs": [],
   "source": []
  },
  {
   "cell_type": "code",
   "execution_count": null,
   "metadata": {},
   "outputs": [],
   "source": []
  },
  {
   "cell_type": "code",
   "execution_count": 65,
   "metadata": {},
   "outputs": [],
   "source": [
    "#t.set_index(['issuer', 'currency'])\n",
    "#t.set_index(['issuer'])\n",
    "ser = t.groupby(['issuer','currency','value']).Fee.mean()"
   ]
  },
  {
   "cell_type": "code",
   "execution_count": 66,
   "metadata": {
    "scrolled": false
   },
   "outputs": [
    {
     "data": {
      "text/plain": [
       "issuer                              currency  value       \n",
       "rB3gZey7VWHYRqJHLoHDEJXJ2pEPNieKiS  ADA       12000.000000    15.0\n",
       "                                              12075.000000    15.0\n",
       "                                              13000.000000    15.0\n",
       "                                              20000.000000    12.0\n",
       "                                              65000.000000    12.0\n",
       "                                                              ... \n",
       "rvYAfWj5gh67oV6fW32ZzP3Aw4Eubs59B   BTC       10.758728       12.0\n",
       "                                              11.362888       12.0\n",
       "                                              11.622708       12.0\n",
       "                                              12.236164       12.0\n",
       "                                              200.000000      12.0\n",
       "Name: Fee, Length: 20508, dtype: float64"
      ]
     },
     "execution_count": 66,
     "metadata": {},
     "output_type": "execute_result"
    }
   ],
   "source": [
    "ser"
   ]
  },
  {
   "cell_type": "code",
   "execution_count": 95,
   "metadata": {},
   "outputs": [
    {
     "data": {
      "text/plain": [
       "currency  value     \n",
       "BTC       0.000547      15000.0\n",
       "          0.000774      15000.0\n",
       "          0.001461      15000.0\n",
       "          0.001716      15000.0\n",
       "          0.001717      15000.0\n",
       "                         ...   \n",
       "          10.758728        12.0\n",
       "          11.362888        12.0\n",
       "          11.622708        12.0\n",
       "          12.236164        12.0\n",
       "          200.000000       12.0\n",
       "Name: Fee, Length: 233, dtype: float64"
      ]
     },
     "execution_count": 95,
     "metadata": {},
     "output_type": "execute_result"
    }
   ],
   "source": [
    "ser.loc['rvYAfWj5gh67oV6fW32ZzP3Aw4Eubs59B']"
   ]
  },
  {
   "cell_type": "code",
   "execution_count": 93,
   "metadata": {},
   "outputs": [
    {
     "data": {
      "text/plain": [
       "currency  value \n",
       "AUD       147.89    20000.0\n",
       "Name: Fee, dtype: float64"
      ]
     },
     "execution_count": 93,
     "metadata": {},
     "output_type": "execute_result"
    }
   ],
   "source": [
    "ser.loc['rK5DpELkCXAtBpZzEooTYzW1bymsAdE1s8']"
   ]
  },
  {
   "cell_type": "code",
   "execution_count": 96,
   "metadata": {},
   "outputs": [],
   "source": [
    "df = t.pivot_table(values='value', index='issuer', columns='currency')"
   ]
  },
  {
   "cell_type": "code",
   "execution_count": 97,
   "metadata": {},
   "outputs": [
    {
     "data": {
      "text/html": [
       "<div>\n",
       "<style scoped>\n",
       "    .dataframe tbody tr th:only-of-type {\n",
       "        vertical-align: middle;\n",
       "    }\n",
       "\n",
       "    .dataframe tbody tr th {\n",
       "        vertical-align: top;\n",
       "    }\n",
       "\n",
       "    .dataframe thead th {\n",
       "        text-align: right;\n",
       "    }\n",
       "</style>\n",
       "<table border=\"1\" class=\"dataframe\">\n",
       "  <thead>\n",
       "    <tr style=\"text-align: right;\">\n",
       "      <th>currency</th>\n",
       "      <th>ADA</th>\n",
       "      <th>AGC</th>\n",
       "      <th>AUD</th>\n",
       "      <th>BRL</th>\n",
       "      <th>BTC</th>\n",
       "    </tr>\n",
       "    <tr>\n",
       "      <th>issuer</th>\n",
       "      <th></th>\n",
       "      <th></th>\n",
       "      <th></th>\n",
       "      <th></th>\n",
       "      <th></th>\n",
       "    </tr>\n",
       "  </thead>\n",
       "  <tbody>\n",
       "    <tr>\n",
       "      <th>rB3gZey7VWHYRqJHLoHDEJXJ2pEPNieKiS</th>\n",
       "      <td>3.969954e+06</td>\n",
       "      <td>NaN</td>\n",
       "      <td>NaN</td>\n",
       "      <td>NaN</td>\n",
       "      <td>0.392577</td>\n",
       "    </tr>\n",
       "    <tr>\n",
       "      <th>rBfVgTnsdh8ckC19RM8aVGNuMZnpwrMP6n</th>\n",
       "      <td>NaN</td>\n",
       "      <td>NaN</td>\n",
       "      <td>NaN</td>\n",
       "      <td>NaN</td>\n",
       "      <td>9.000000</td>\n",
       "    </tr>\n",
       "    <tr>\n",
       "      <th>rG6FZ31hDHN1K5Dkbma3PSB5uVCuVVRzfn</th>\n",
       "      <td>NaN</td>\n",
       "      <td>NaN</td>\n",
       "      <td>NaN</td>\n",
       "      <td>NaN</td>\n",
       "      <td>0.423508</td>\n",
       "    </tr>\n",
       "    <tr>\n",
       "      <th>rK5DpELkCXAtBpZzEooTYzW1bymsAdE1s8</th>\n",
       "      <td>NaN</td>\n",
       "      <td>NaN</td>\n",
       "      <td>147.89</td>\n",
       "      <td>NaN</td>\n",
       "      <td>NaN</td>\n",
       "    </tr>\n",
       "    <tr>\n",
       "      <th>rKxKhXZCeSDsbkyB8DVgxpjy5AHubFkMFe</th>\n",
       "      <td>NaN</td>\n",
       "      <td>NaN</td>\n",
       "      <td>NaN</td>\n",
       "      <td>NaN</td>\n",
       "      <td>0.551706</td>\n",
       "    </tr>\n",
       "    <tr>\n",
       "      <th>rLEsXccBGNR3UPuPu2hUXPjziKC3qKSBun</th>\n",
       "      <td>NaN</td>\n",
       "      <td>NaN</td>\n",
       "      <td>NaN</td>\n",
       "      <td>NaN</td>\n",
       "      <td>0.248797</td>\n",
       "    </tr>\n",
       "    <tr>\n",
       "      <th>rQnUok1DNSH4q8VBSRke5cY7vtZ4H5XG9X</th>\n",
       "      <td>NaN</td>\n",
       "      <td>NaN</td>\n",
       "      <td>5000.00</td>\n",
       "      <td>NaN</td>\n",
       "      <td>NaN</td>\n",
       "    </tr>\n",
       "    <tr>\n",
       "      <th>rchGBxcD1A1C2tdxF6papQYZ8kjRKMYcL</th>\n",
       "      <td>NaN</td>\n",
       "      <td>NaN</td>\n",
       "      <td>NaN</td>\n",
       "      <td>NaN</td>\n",
       "      <td>0.985067</td>\n",
       "    </tr>\n",
       "    <tr>\n",
       "      <th>rfNZPxoZ5Uaamdp339U9dCLWz2T73nZJZH</th>\n",
       "      <td>NaN</td>\n",
       "      <td>NaN</td>\n",
       "      <td>NaN</td>\n",
       "      <td>537.157073</td>\n",
       "      <td>NaN</td>\n",
       "    </tr>\n",
       "    <tr>\n",
       "      <th>rfqspG4S6H3NLYGecx3FHHYjPeYSNCdApf</th>\n",
       "      <td>NaN</td>\n",
       "      <td>0.002915</td>\n",
       "      <td>NaN</td>\n",
       "      <td>NaN</td>\n",
       "      <td>NaN</td>\n",
       "    </tr>\n",
       "    <tr>\n",
       "      <th>rnuF96W4SZoCJmbHYBFoJZpR8eCaxNvekK</th>\n",
       "      <td>NaN</td>\n",
       "      <td>NaN</td>\n",
       "      <td>NaN</td>\n",
       "      <td>NaN</td>\n",
       "      <td>12.984408</td>\n",
       "    </tr>\n",
       "    <tr>\n",
       "      <th>rvYAfWj5gh67oV6fW32ZzP3Aw4Eubs59B</th>\n",
       "      <td>NaN</td>\n",
       "      <td>NaN</td>\n",
       "      <td>NaN</td>\n",
       "      <td>NaN</td>\n",
       "      <td>1.240699</td>\n",
       "    </tr>\n",
       "  </tbody>\n",
       "</table>\n",
       "</div>"
      ],
      "text/plain": [
       "currency                                     ADA       AGC      AUD  \\\n",
       "issuer                                                                \n",
       "rB3gZey7VWHYRqJHLoHDEJXJ2pEPNieKiS  3.969954e+06       NaN      NaN   \n",
       "rBfVgTnsdh8ckC19RM8aVGNuMZnpwrMP6n           NaN       NaN      NaN   \n",
       "rG6FZ31hDHN1K5Dkbma3PSB5uVCuVVRzfn           NaN       NaN      NaN   \n",
       "rK5DpELkCXAtBpZzEooTYzW1bymsAdE1s8           NaN       NaN   147.89   \n",
       "rKxKhXZCeSDsbkyB8DVgxpjy5AHubFkMFe           NaN       NaN      NaN   \n",
       "rLEsXccBGNR3UPuPu2hUXPjziKC3qKSBun           NaN       NaN      NaN   \n",
       "rQnUok1DNSH4q8VBSRke5cY7vtZ4H5XG9X           NaN       NaN  5000.00   \n",
       "rchGBxcD1A1C2tdxF6papQYZ8kjRKMYcL            NaN       NaN      NaN   \n",
       "rfNZPxoZ5Uaamdp339U9dCLWz2T73nZJZH           NaN       NaN      NaN   \n",
       "rfqspG4S6H3NLYGecx3FHHYjPeYSNCdApf           NaN  0.002915      NaN   \n",
       "rnuF96W4SZoCJmbHYBFoJZpR8eCaxNvekK           NaN       NaN      NaN   \n",
       "rvYAfWj5gh67oV6fW32ZzP3Aw4Eubs59B            NaN       NaN      NaN   \n",
       "\n",
       "currency                                   BRL        BTC  \n",
       "issuer                                                     \n",
       "rB3gZey7VWHYRqJHLoHDEJXJ2pEPNieKiS         NaN   0.392577  \n",
       "rBfVgTnsdh8ckC19RM8aVGNuMZnpwrMP6n         NaN   9.000000  \n",
       "rG6FZ31hDHN1K5Dkbma3PSB5uVCuVVRzfn         NaN   0.423508  \n",
       "rK5DpELkCXAtBpZzEooTYzW1bymsAdE1s8         NaN        NaN  \n",
       "rKxKhXZCeSDsbkyB8DVgxpjy5AHubFkMFe         NaN   0.551706  \n",
       "rLEsXccBGNR3UPuPu2hUXPjziKC3qKSBun         NaN   0.248797  \n",
       "rQnUok1DNSH4q8VBSRke5cY7vtZ4H5XG9X         NaN        NaN  \n",
       "rchGBxcD1A1C2tdxF6papQYZ8kjRKMYcL          NaN   0.985067  \n",
       "rfNZPxoZ5Uaamdp339U9dCLWz2T73nZJZH  537.157073        NaN  \n",
       "rfqspG4S6H3NLYGecx3FHHYjPeYSNCdApf         NaN        NaN  \n",
       "rnuF96W4SZoCJmbHYBFoJZpR8eCaxNvekK         NaN  12.984408  \n",
       "rvYAfWj5gh67oV6fW32ZzP3Aw4Eubs59B          NaN   1.240699  "
      ]
     },
     "execution_count": 97,
     "metadata": {},
     "output_type": "execute_result"
    }
   ],
   "source": [
    "df"
   ]
  },
  {
   "cell_type": "code",
   "execution_count": 83,
   "metadata": {},
   "outputs": [
    {
     "data": {
      "text/plain": [
       "6390.033670770619"
      ]
     },
     "execution_count": 83,
     "metadata": {},
     "output_type": "execute_result"
    }
   ],
   "source": [
    "df['BTC'].sum()"
   ]
  },
  {
   "cell_type": "code",
   "execution_count": 56,
   "metadata": {},
   "outputs": [
    {
     "data": {
      "text/plain": [
       "array(['rB3gZey7VWHYRqJHLoHDEJXJ2pEPNieKiS',\n",
       "       'rBfVgTnsdh8ckC19RM8aVGNuMZnpwrMP6n',\n",
       "       'rG6FZ31hDHN1K5Dkbma3PSB5uVCuVVRzfn',\n",
       "       'rK5DpELkCXAtBpZzEooTYzW1bymsAdE1s8',\n",
       "       'rKxKhXZCeSDsbkyB8DVgxpjy5AHubFkMFe',\n",
       "       'rLEsXccBGNR3UPuPu2hUXPjziKC3qKSBun',\n",
       "       'rQnUok1DNSH4q8VBSRke5cY7vtZ4H5XG9X',\n",
       "       'rchGBxcD1A1C2tdxF6papQYZ8kjRKMYcL',\n",
       "       'rfNZPxoZ5Uaamdp339U9dCLWz2T73nZJZH',\n",
       "       'rfqspG4S6H3NLYGecx3FHHYjPeYSNCdApf',\n",
       "       'rnuF96W4SZoCJmbHYBFoJZpR8eCaxNvekK',\n",
       "       'rvYAfWj5gh67oV6fW32ZzP3Aw4Eubs59B'], dtype=object)"
      ]
     },
     "execution_count": 56,
     "metadata": {},
     "output_type": "execute_result"
    }
   ],
   "source": [
    "x = pd.unique(df['issuer'])\n",
    "x"
   ]
  },
  {
   "cell_type": "code",
   "execution_count": null,
   "metadata": {},
   "outputs": [],
   "source": []
  }
 ],
 "metadata": {
  "kernelspec": {
   "display_name": "Python 3",
   "language": "python",
   "name": "python3"
  },
  "language_info": {
   "codemirror_mode": {
    "name": "ipython",
    "version": 3
   },
   "file_extension": ".py",
   "mimetype": "text/x-python",
   "name": "python",
   "nbconvert_exporter": "python",
   "pygments_lexer": "ipython3",
   "version": "3.8.0"
  }
 },
 "nbformat": 4,
 "nbformat_minor": 2
}
