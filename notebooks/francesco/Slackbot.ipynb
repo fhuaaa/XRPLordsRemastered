{
  "nbformat": 4,
  "nbformat_minor": 0,
  "metadata": {
    "colab": {
      "name": "Slackbot.ipynb",
      "provenance": []
    },
    "kernelspec": {
      "name": "python3",
      "display_name": "Python 3"
    }
  },
  "cells": [
    {
      "cell_type": "code",
      "metadata": {
        "id": "bW5cEv94ob_R",
        "colab_type": "code",
        "colab": {}
      },
      "source": [
        "!pip install slack\n",
        "!pip install slacker"
      ],
      "execution_count": 0,
      "outputs": []
    },
    {
      "cell_type": "code",
      "metadata": {
        "id": "WqgRpKSjl8et",
        "colab_type": "code",
        "colab": {}
      },
      "source": [
        "import slack\n",
        "from slacker import Slacker\n",
        "#from IPython.display import Image\n",
        "import requests\n",
        "import pandas as pd\n",
        "import json\n",
        "import matplotlib.pyplot as plt\n",
        "import numpy as np\n",
        "import time\n"
      ],
      "execution_count": 0,
      "outputs": []
    },
    {
      "cell_type": "code",
      "metadata": {
        "id": "GOMmn0tDnacj",
        "colab_type": "code",
        "colab": {}
      },
      "source": [
        "token = ['your token goes here']\n",
        "slack = Slacker(token)"
      ],
      "execution_count": 0,
      "outputs": []
    },
    {
      "cell_type": "code",
      "metadata": {
        "id": "ZkQuCdpBncIr",
        "colab_type": "code",
        "colab": {
          "base_uri": "https://localhost:8080/",
          "height": 34
        },
        "outputId": "84ef27f6-f251-4023-db4a-2ebc8d1c5365"
      },
      "source": [
        "# Check for success\n",
        "if slack.api.test().successful:\n",
        "    print(\n",
        "        f\"Connected to {slack.team.info().body['team']['name']}.\")\n",
        "else:\n",
        "    print('Try Again!')"
      ],
      "execution_count": 42,
      "outputs": [
        {
          "output_type": "stream",
          "text": [
            "Connected to Capstone team.\n"
          ],
          "name": "stdout"
        }
      ]
    },
    {
      "cell_type": "code",
      "metadata": {
        "id": "zqqzYus3uo_b",
        "colab_type": "code",
        "colab": {}
      },
      "source": [
        "x = str(5)"
      ],
      "execution_count": 0,
      "outputs": []
    },
    {
      "cell_type": "code",
      "metadata": {
        "id": "WAaadL0Hu40W",
        "colab_type": "code",
        "colab": {}
      },
      "source": [
        "ledger = str(52562705)"
      ],
      "execution_count": 0,
      "outputs": []
    },
    {
      "cell_type": "code",
      "metadata": {
        "id": "YRukyZDFvEA6",
        "colab_type": "code",
        "colab": {
          "base_uri": "https://localhost:8080/",
          "height": 34
        },
        "outputId": "0929631b-acd0-43b6-ce4d-e8c94779c04d"
      },
      "source": [
        "linkk = 'https://livenet.xrpl.org/ledgers/' + ledger\n",
        "print(linkk)"
      ],
      "execution_count": 45,
      "outputs": [
        {
          "output_type": "stream",
          "text": [
            "https://livenet.xrpl.org/ledgers/52562705\n"
          ],
          "name": "stdout"
        }
      ]
    },
    {
      "cell_type": "code",
      "metadata": {
        "id": "DEafDXVUpy0p",
        "colab_type": "code",
        "colab": {}
      },
      "source": [
        "message = '<!everyone> *Careful bros, unusual amount of transactions per ledger*\\n We got ' + x + ' transactions per ledger in the last period\\n Check out ledger ' + ledger + '\\nHere\\n' + linkk"
      ],
      "execution_count": 0,
      "outputs": []
    },
    {
      "cell_type": "code",
      "metadata": {
        "id": "4WDXvbcRnb94",
        "colab_type": "code",
        "colab": {
          "base_uri": "https://localhost:8080/",
          "height": 34
        },
        "outputId": "973c67fe-4080-46fa-b051-5409b578f127"
      },
      "source": [
        "##############################\n",
        "#public channel\n",
        "slack.chat.post_message(channel='#daily_report',\n",
        "                            text= message,\n",
        "                            username='capstone_bot',\n",
        "                            icon_emoji=':female-firefighter:')\n"
      ],
      "execution_count": 47,
      "outputs": [
        {
          "output_type": "execute_result",
          "data": {
            "text/plain": [
              "<slacker.Response at 0x7f5d15ed94e0>"
            ]
          },
          "metadata": {
            "tags": []
          },
          "execution_count": 47
        }
      ]
    },
    {
      "cell_type": "code",
      "metadata": {
        "id": "n9Ro6I2pyFFb",
        "colab_type": "code",
        "colab": {}
      },
      "source": [
        "def check_tx_count_great200():\n",
        "    url=f'https://data.ripple.com/v2/ledgers/'\n",
        "    #ledger_identifier=2020-01-22T11:20:00Z\\\n",
        "    resmain= requests.get(url)\n",
        "    x=resmain.json()\n",
        "    if (int(x['ledger']['tx_count'])>50):\n",
        "        return True, x\n",
        "    else:\n",
        "        return False, x"
      ],
      "execution_count": 0,
      "outputs": []
    },
    {
      "cell_type": "code",
      "metadata": {
        "id": "vO3lK7mkIwej",
        "colab_type": "code",
        "colab": {}
      },
      "source": [
        "i = 0\n",
        "while i<1000:\n",
        "  print(i)\n",
        "  check, x = check_tx_count_great200()\n",
        "  print(str(x['ledger']['tx_count']))\n",
        "  print(str(x['ledger']['ledger_index']))\n",
        "  i=i+1\n",
        "  time.sleep(2)"
      ],
      "execution_count": 0,
      "outputs": []
    },
    {
      "cell_type": "code",
      "metadata": {
        "id": "PTdG-JXAyFzp",
        "colab_type": "code",
        "colab": {}
      },
      "source": [
        "i = 0\n",
        "no_repeat = ''\n",
        "while i<1000:\n",
        "  print(i)\n",
        "  check, x = check_tx_count_great200()\n",
        "  if check:\n",
        "    a = str(x['ledger']['tx_count'])\n",
        "    ledger = str(x['ledger']['ledger_index'])\n",
        "    if ledger != no_repeat:\n",
        "        linkk = 'https://livenet.xrpl.org/ledgers/' + ledger\n",
        "        message = '<!everyone> *Careful bros, unusual amount of transactions per ledger*\\n We got ' + a + ' transactions per ledger in the last period\\n Check out ledger ' + ledger + '\\nHere\\n' + linkk\n",
        "        #public channel\n",
        "        slack.chat.post_message(channel='#daily_report',\n",
        "                                  text= message,\n",
        "                                  username='capstone_bot',\n",
        "                                  icon_emoji=':female-firefighter:')\n",
        "  no_repeat = ledger\n",
        "  i=i+1\n",
        "  time.sleep(2)\n"
      ],
      "execution_count": 0,
      "outputs": []
    }
  ]
}