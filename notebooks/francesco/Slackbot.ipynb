{
 "cells": [
  {
   "cell_type": "code",
   "execution_count": 1,
   "metadata": {
    "colab": {},
    "colab_type": "code",
    "id": "bW5cEv94ob_R",
    "scrolled": true
   },
   "outputs": [
    {
     "name": "stdout",
     "output_type": "stream",
     "text": [
      "Collecting slack\n",
      "  Downloading https://files.pythonhosted.org/packages/90/90/b5f37b4d4715d89a15700e3782ad0f71f5c454b8d403650e4e1abd37a071/slack-0.0.2.tar.gz\n",
      "Building wheels for collected packages: slack\n",
      "  Building wheel for slack (setup.py) ... \u001b[?25ldone\n",
      "\u001b[?25h  Created wheel for slack: filename=slack-0.0.2-cp35-none-any.whl size=3715 sha256=2bc47b27adaca77f4095a708692a20c6739488e0da89a7e9dd22acc6ed2bf33c\n",
      "  Stored in directory: /home/ravi_bhandia/.cache/pip/wheels/fc/ad/71/97b5bbcd99b6517e801a0eed14aa9fc1b6e4fa27fe2df7959a\n",
      "Successfully built slack\n",
      "Installing collected packages: slack\n",
      "\u001b[31mERROR: Could not install packages due to an EnvironmentError: [Errno 13] Permission denied: '/usr/local/lib/python3.5/dist-packages/slack'\n",
      "Consider using the `--user` option or check the permissions.\n",
      "\u001b[0m\n",
      "\u001b[33mWARNING: You are using pip version 19.3.1; however, version 20.0.1 is available.\n",
      "You should consider upgrading via the 'pip install --upgrade pip' command.\u001b[0m\n",
      "Collecting slacker\n",
      "  Downloading https://files.pythonhosted.org/packages/cc/71/7ef8a02070d75539e7ea5c9663951062669d101663051ad9f19abd6d2543/slacker-0.13.0.tar.gz\n",
      "Requirement already satisfied: requests>=2.2.1 in /usr/local/lib/python3.5/dist-packages (from slacker) (2.22.0)\n",
      "Requirement already satisfied: certifi>=2017.4.17 in /usr/local/lib/python3.5/dist-packages (from requests>=2.2.1->slacker) (2019.11.28)\n",
      "Requirement already satisfied: idna<2.9,>=2.5 in /usr/local/lib/python3.5/dist-packages (from requests>=2.2.1->slacker) (2.8)\n",
      "Requirement already satisfied: urllib3!=1.25.0,!=1.25.1,<1.26,>=1.21.1 in /usr/local/lib/python3.5/dist-packages (from requests>=2.2.1->slacker) (1.24.2)\n",
      "Requirement already satisfied: chardet<3.1.0,>=3.0.2 in /usr/local/lib/python3.5/dist-packages (from requests>=2.2.1->slacker) (3.0.4)\n",
      "Building wheels for collected packages: slacker\n",
      "  Building wheel for slacker (setup.py) ... \u001b[?25ldone\n",
      "\u001b[?25h  Created wheel for slacker: filename=slacker-0.13.0-cp35-none-any.whl size=11065 sha256=8388282a5b90cb73c3a643b1bbbbf13c879541f6bf05ac7b0febedcb90f13210\n",
      "  Stored in directory: /home/ravi_bhandia/.cache/pip/wheels/f4/79/9b/f8ea00226d5a3121cf12b181ffadcaf92dc41a53867729a3a2\n",
      "Successfully built slacker\n",
      "Installing collected packages: slacker\n",
      "\u001b[31mERROR: Could not install packages due to an EnvironmentError: [Errno 13] Permission denied: '/usr/local/lib/python3.5/dist-packages/slacker'\n",
      "Consider using the `--user` option or check the permissions.\n",
      "\u001b[0m\n",
      "\u001b[33mWARNING: You are using pip version 19.3.1; however, version 20.0.1 is available.\n",
      "You should consider upgrading via the 'pip install --upgrade pip' command.\u001b[0m\n"
     ]
    }
   ],
   "source": [
    "!pip install slack\n",
    "!pip install slacker"
   ]
  },
  {
   "cell_type": "code",
   "execution_count": 34,
   "metadata": {
    "colab": {},
    "colab_type": "code",
    "id": "WqgRpKSjl8et"
   },
   "outputs": [],
   "source": [
    "import slack\n",
    "from slacker import Slacker\n",
    "#from IPython.display import Image\n",
    "import requests\n",
    "import pandas as pd\n",
    "import json\n",
    "import matplotlib.pyplot as plt\n",
    "import numpy as np\n",
    "import time\n",
    "from datetime import datetime\n"
   ]
  },
  {
   "cell_type": "code",
   "execution_count": 0,
   "metadata": {
    "colab": {},
    "colab_type": "code",
    "id": "GOMmn0tDnacj"
   },
   "outputs": [],
   "source": [
    "token = ['your token goes here']\n",
    "slack = Slacker(token)"
   ]
  },
  {
   "cell_type": "code",
   "execution_count": 50,
   "metadata": {},
   "outputs": [
    {
     "name": "stdout",
     "output_type": "stream",
     "text": [
      "2020-01-24T07:20:43Z\n"
     ]
    }
   ],
   "source": [
    "print(datetime.now().strftime('%Y-%m-%dT%H:%M:%SZ'))"
   ]
  },
  {
   "cell_type": "code",
   "execution_count": 42,
   "metadata": {
    "colab": {
     "base_uri": "https://localhost:8080/",
     "height": 34
    },
    "colab_type": "code",
    "id": "ZkQuCdpBncIr",
    "outputId": "84ef27f6-f251-4023-db4a-2ebc8d1c5365"
   },
   "outputs": [
    {
     "ename": "SyntaxError",
     "evalue": "invalid syntax (<ipython-input-42-b44fc3f810bc>, line 4)",
     "output_type": "error",
     "traceback": [
      "\u001b[0;36m  File \u001b[0;32m\"<ipython-input-42-b44fc3f810bc>\"\u001b[0;36m, line \u001b[0;32m4\u001b[0m\n\u001b[0;31m    f\"Connected to {slack.team.info().body['team']['name']}.\")\u001b[0m\n\u001b[0m                                                            ^\u001b[0m\n\u001b[0;31mSyntaxError\u001b[0m\u001b[0;31m:\u001b[0m invalid syntax\n"
     ]
    }
   ],
   "source": [
    "# Check for success\n",
    "if slack.api.test().successful:\n",
    "    print(\n",
    "        f\"Connected to {slack.team.info().body['team']['name']}.\")\n",
    "else:\n",
    "    print('Try Again!')"
   ]
  },
  {
   "cell_type": "code",
   "execution_count": 0,
   "metadata": {
    "colab": {},
    "colab_type": "code",
    "id": "zqqzYus3uo_b"
   },
   "outputs": [],
   "source": [
    "x = str(5)"
   ]
  },
  {
   "cell_type": "code",
   "execution_count": 0,
   "metadata": {
    "colab": {},
    "colab_type": "code",
    "id": "WAaadL0Hu40W"
   },
   "outputs": [],
   "source": [
    "ledger = str(52562705)"
   ]
  },
  {
   "cell_type": "code",
   "execution_count": 45,
   "metadata": {
    "colab": {
     "base_uri": "https://localhost:8080/",
     "height": 34
    },
    "colab_type": "code",
    "id": "YRukyZDFvEA6",
    "outputId": "0929631b-acd0-43b6-ce4d-e8c94779c04d"
   },
   "outputs": [
    {
     "name": "stdout",
     "output_type": "stream",
     "text": [
      "https://livenet.xrpl.org/ledgers/52562705\n"
     ]
    }
   ],
   "source": [
    "linkk = 'https://livenet.xrpl.org/ledgers/' + ledger\n",
    "print(linkk)"
   ]
  },
  {
   "cell_type": "code",
   "execution_count": 0,
   "metadata": {
    "colab": {},
    "colab_type": "code",
    "id": "DEafDXVUpy0p"
   },
   "outputs": [],
   "source": [
    "message = '<!everyone> *Careful bros, unusual amount of transactions per ledger*\\n We got ' + x + ' transactions per ledger in the last period\\n Check out ledger ' + ledger + '\\nHere\\n' + linkk"
   ]
  },
  {
   "cell_type": "code",
   "execution_count": 47,
   "metadata": {
    "colab": {
     "base_uri": "https://localhost:8080/",
     "height": 34
    },
    "colab_type": "code",
    "id": "4WDXvbcRnb94",
    "outputId": "973c67fe-4080-46fa-b051-5409b578f127"
   },
   "outputs": [
    {
     "data": {
      "text/plain": [
       "<slacker.Response at 0x7f5d15ed94e0>"
      ]
     },
     "execution_count": 47,
     "metadata": {
      "tags": []
     },
     "output_type": "execute_result"
    }
   ],
   "source": [
    "##############################\n",
    "#public channel\n",
    "slack.chat.post_message(channel='#daily_report',\n",
    "                            text= message,\n",
    "                            username='capstone_bot',\n",
    "                            icon_emoji=':female-firefighter:')\n"
   ]
  },
  {
   "cell_type": "code",
   "execution_count": 53,
   "metadata": {},
   "outputs": [],
   "source": [
    "url='https://data.ripple.com/v2/ledgers/'+ datetime.now().strftime('%Y-%m-%dT%H:%M:%SZ')"
   ]
  },
  {
   "cell_type": "code",
   "execution_count": 54,
   "metadata": {},
   "outputs": [
    {
     "data": {
      "text/plain": [
       "'33 LedgerIndex: 52949496'"
      ]
     },
     "execution_count": 54,
     "metadata": {},
     "output_type": "execute_result"
    }
   ],
   "source": [
    "resmain= requests.get(url)\n",
    "x=resmain.json()\n",
    "x['ledger']['tx_count'] + ' LedgerIndex: '+ str(x['ledger']['ledger_index'])"
   ]
  },
  {
   "cell_type": "code",
   "execution_count": 55,
   "metadata": {
    "colab": {},
    "colab_type": "code",
    "id": "n9Ro6I2pyFFb"
   },
   "outputs": [],
   "source": [
    "def check_tx_count_great200():\n",
    "    url='https://data.ripple.com/v2/ledgers/'+ datetime.now().strftime('%Y-%m-%dT%H:%M:%SZ')\n",
    "    #ledger_identifier=2020-01-22T11:20:00Z\\\n",
    "    resmain= requests.get(url)\n",
    "    x=resmain.json()\n",
    "    if (int(x['ledger']['tx_count'])>50):\n",
    "        return True, x\n",
    "    else:\n",
    "        return False, x"
   ]
  },
  {
   "cell_type": "code",
   "execution_count": 56,
   "metadata": {
    "colab": {},
    "colab_type": "code",
    "id": "vO3lK7mkIwej"
   },
   "outputs": [
    {
     "name": "stdout",
     "output_type": "stream",
     "text": [
      "0\n",
      "33\n",
      "52949501\n",
      "1\n",
      "33\n",
      "52949501\n",
      "2\n",
      "37\n",
      "52949502\n",
      "3\n",
      "38\n",
      "52949503\n",
      "4\n",
      "34\n",
      "52949504\n",
      "5\n",
      "34\n",
      "52949504\n",
      "6\n",
      "51\n",
      "52949505\n",
      "7\n",
      "32\n",
      "52949506\n",
      "8\n",
      "32\n",
      "52949506\n",
      "9\n",
      "35\n",
      "52949507\n",
      "10\n",
      "35\n",
      "52949508\n",
      "11\n",
      "35\n",
      "52949508\n",
      "12\n",
      "28\n",
      "52949509\n",
      "13\n",
      "38\n",
      "52949510\n",
      "14\n",
      "38\n",
      "52949510\n",
      "15\n",
      "38\n",
      "52949511\n",
      "16\n",
      "35\n",
      "52949512\n",
      "17\n",
      "28\n",
      "52949513\n",
      "18\n",
      "28\n",
      "52949513\n",
      "19\n",
      "38\n",
      "52949514\n",
      "20\n",
      "28\n",
      "52949515\n",
      "21\n",
      "28\n",
      "52949515\n",
      "22\n",
      "31\n",
      "52949516\n",
      "23\n",
      "42\n",
      "52949517\n",
      "24\n",
      "42\n",
      "52949517\n",
      "25\n",
      "25\n",
      "52949518\n",
      "26\n",
      "41\n",
      "52949519\n",
      "27\n",
      "41\n",
      "52949519\n",
      "28\n",
      "54\n",
      "52949520\n",
      "29\n",
      "20\n",
      "52949521\n",
      "30\n",
      "20\n",
      "52949521\n",
      "31\n",
      "20\n",
      "52949521\n",
      "32\n",
      "36\n",
      "52949523\n",
      "33\n",
      "36\n",
      "52949523\n",
      "34\n",
      "40\n",
      "52949524\n",
      "35\n",
      "35\n",
      "52949525\n",
      "36\n",
      "35\n",
      "52949525\n",
      "37\n",
      "24\n",
      "52949526\n",
      "38\n",
      "39\n",
      "52949527\n",
      "39\n",
      "39\n",
      "52949527\n",
      "40\n",
      "29\n",
      "52949528\n",
      "41\n",
      "38\n",
      "52949529\n",
      "42\n",
      "32\n",
      "52949530\n",
      "43\n",
      "32\n",
      "52949530\n",
      "44\n",
      "34\n",
      "52949531\n",
      "45\n",
      "34\n",
      "52949531\n",
      "46\n",
      "34\n",
      "52949532\n",
      "47\n",
      "38\n",
      "52949533\n",
      "48\n",
      "38\n",
      "52949533\n",
      "49\n",
      "32\n",
      "52949534\n",
      "50\n",
      "32\n",
      "52949535\n",
      "51\n",
      "32\n",
      "52949535\n",
      "52\n",
      "64\n",
      "52949536\n"
     ]
    },
    {
     "ename": "KeyboardInterrupt",
     "evalue": "",
     "output_type": "error",
     "traceback": [
      "\u001b[0;31m---------------------------------------------------------------------------\u001b[0m",
      "\u001b[0;31mKeyboardInterrupt\u001b[0m                         Traceback (most recent call last)",
      "\u001b[0;32m<ipython-input-56-f5ce1bfd6ec4>\u001b[0m in \u001b[0;36m<module>\u001b[0;34m\u001b[0m\n\u001b[1;32m      6\u001b[0m   \u001b[0mprint\u001b[0m\u001b[0;34m(\u001b[0m\u001b[0mstr\u001b[0m\u001b[0;34m(\u001b[0m\u001b[0mx\u001b[0m\u001b[0;34m[\u001b[0m\u001b[0;34m'ledger'\u001b[0m\u001b[0;34m]\u001b[0m\u001b[0;34m[\u001b[0m\u001b[0;34m'ledger_index'\u001b[0m\u001b[0;34m]\u001b[0m\u001b[0;34m)\u001b[0m\u001b[0;34m)\u001b[0m\u001b[0;34m\u001b[0m\u001b[0m\n\u001b[1;32m      7\u001b[0m   \u001b[0mi\u001b[0m\u001b[0;34m=\u001b[0m\u001b[0mi\u001b[0m\u001b[0;34m+\u001b[0m\u001b[0;36m1\u001b[0m\u001b[0;34m\u001b[0m\u001b[0m\n\u001b[0;32m----> 8\u001b[0;31m   \u001b[0mtime\u001b[0m\u001b[0;34m.\u001b[0m\u001b[0msleep\u001b[0m\u001b[0;34m(\u001b[0m\u001b[0;36m2\u001b[0m\u001b[0;34m)\u001b[0m\u001b[0;34m\u001b[0m\u001b[0m\n\u001b[0m",
      "\u001b[0;31mKeyboardInterrupt\u001b[0m: "
     ]
    }
   ],
   "source": [
    "i = 0\n",
    "while i<1000:\n",
    "  print(i)\n",
    "  check, x = check_tx_count_great200()\n",
    "  print(str(x['ledger']['tx_count']))\n",
    "  print(str(x['ledger']['ledger_index']))\n",
    "  i=i+1\n",
    "  time.sleep(2)"
   ]
  },
  {
   "cell_type": "code",
   "execution_count": 13,
   "metadata": {},
   "outputs": [
    {
     "data": {
      "text/plain": [
       "(False,\n",
       " {'ledger': {'account_hash': '07376D5ABA6956F3F0F96E1787CC9A71194E24BAACF6B23C412390B123FA1795',\n",
       "   'close_flags': '0',\n",
       "   'close_time': 1579849861,\n",
       "   'close_time_human': '2020-Jan-24 07:11:01',\n",
       "   'close_time_resolution': '10',\n",
       "   'ledger_hash': '2F8FEC08D0B71F8DEF85076B1B193CF6D24FAFFE277E6762479E5563B9238813',\n",
       "   'ledger_index': 52949335,\n",
       "   'parent_close_time': 1579849860,\n",
       "   'parent_hash': '8F86460B0A0DCD2A72558097E7A85C3F33198F093CE8D2AFEFB09F3233627443',\n",
       "   'total_coins': '99991095024194848',\n",
       "   'transaction_hash': '1BC62B994E08C8E795DB30AF47B124B22FBACCB91A1828B89F1C152752E2C046',\n",
       "   'tx_count': '46'},\n",
       "  'result': 'success'})"
      ]
     },
     "execution_count": 13,
     "metadata": {},
     "output_type": "execute_result"
    }
   ],
   "source": [
    "check_tx_count_great200()"
   ]
  },
  {
   "cell_type": "code",
   "execution_count": null,
   "metadata": {},
   "outputs": [],
   "source": []
  },
  {
   "cell_type": "code",
   "execution_count": 0,
   "metadata": {
    "colab": {},
    "colab_type": "code",
    "id": "PTdG-JXAyFzp"
   },
   "outputs": [],
   "source": [
    "i = 0\n",
    "no_repeat = ''\n",
    "while i<1000:\n",
    "  print(i)\n",
    "  check, x = check_tx_count_great200()\n",
    "  if check:\n",
    "    a = str(x['ledger']['tx_count'])\n",
    "    ledger = str(x['ledger']['ledger_index'])\n",
    "    if ledger != no_repeat:\n",
    "        linkk = 'https://livenet.xrpl.org/ledgers/' + ledger\n",
    "        message = '<!everyone> *Careful bros, unusual amount of transactions per ledger*\\n We got ' + a + ' transactions per ledger in the last period\\n Check out ledger ' + ledger + '\\nHere\\n' + linkk\n",
    "        #public channel\n",
    "        slack.chat.post_message(channel='#daily_report',\n",
    "                                  text= message,\n",
    "                                  username='capstone_bot',\n",
    "                                  icon_emoji=':female-firefighter:')\n",
    "  no_repeat = ledger\n",
    "  i=i+1\n",
    "  time.sleep(2)\n"
   ]
  }
 ],
 "metadata": {
  "colab": {
   "name": "Slackbot.ipynb",
   "provenance": []
  },
  "kernelspec": {
   "display_name": "Python 3",
   "language": "python",
   "name": "python3"
  },
  "language_info": {
   "codemirror_mode": {
    "name": "ipython",
    "version": 3
   },
   "file_extension": ".py",
   "mimetype": "text/x-python",
   "name": "python",
   "nbconvert_exporter": "python",
   "pygments_lexer": "ipython3",
   "version": "3.5.3"
  }
 },
 "nbformat": 4,
 "nbformat_minor": 1
}
